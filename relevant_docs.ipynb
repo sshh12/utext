{
 "cells": [
  {
   "cell_type": "code",
   "execution_count": 1,
   "metadata": {
    "scrolled": true
   },
   "outputs": [
    {
     "name": "stdout",
     "output_type": "stream",
     "text": [
      "[{'epoch': '1542505598', 'timestamp': '01:46:38', 'cluster': 'elasticsearch', 'status': 'yellow', 'node.total': '1', 'node.data': '1', 'shards': '7', 'pri': '7', 'relo': '0', 'init': '0', 'unassign': '5', 'pending_tasks': '0', 'max_task_wait_time': '-', 'active_shards_percent': '58.3%'}]\n"
     ]
    }
   ],
   "source": [
    "import os\n",
    "import json\n",
    "from elasticsearch import Elasticsearch\n",
    "from elasticsearch_dsl import Search\n",
    "\n",
    "http_auth = os.environ['UTEXT_NAME'] + \":\" + os.environ['UTEXT_PSWD']\n",
    "client = Elasticsearch(\"https://utext.club\",http_auth=http_auth,use_ssl=True,verify_certs=True)\n",
    "client.ping()\n",
    "cluster_health = client.cat.health(format=\"json\",v=True)\n",
    "print(cluster_health)"
   ]
  },
  {
   "cell_type": "code",
   "execution_count": 2,
   "metadata": {},
   "outputs": [],
   "source": [
    "#client.indices.get_alias(\"*\")"
   ]
  },
  {
   "cell_type": "code",
   "execution_count": 3,
   "metadata": {},
   "outputs": [],
   "source": [
    "query = {\"query\" : {\n",
    "        \"match\" : {'content':'medical',\n",
    "                  'content': 'medicine'}\n",
    "    }}\n",
    "res = client.search(index=\"documents\",body=query)"
   ]
  },
  {
   "cell_type": "code",
   "execution_count": 4,
   "metadata": {},
   "outputs": [],
   "source": [
    "#print((res['hits']['hits'][2]))\n",
    "#Results Structure: key(hits) -> key(hits) -> points to a list of ordered documents \n",
    "#ordered documents themselves are dictionaries with keys: ['_index', '_type', '_id', '_score', '_source']\n",
    "#the source key is a dict with the following keys: 'name', 'num_lines','content'"
   ]
  },
  {
   "cell_type": "code",
   "execution_count": 5,
   "metadata": {},
   "outputs": [],
   "source": [
    "#with open('data.txt', 'w') as outfile:  \n",
    "   # json.dump(res, outfile)"
   ]
  },
  {
   "cell_type": "code",
   "execution_count": null,
   "metadata": {},
   "outputs": [],
   "source": [
    "def getRelevantDocs(word1):\n",
    "    http_auth = os.environ['UTEXT_NAME'] + \":\" + os.environ['UTEXT_PSWD']\n",
    "    client = Elasticsearch(\"https://utext.club\",http_auth=http_auth,use_ssl=True,verify_certs=True)\n",
    "    client.ping()\n",
    "    cluster_health = client.cat.health(format=\"json\",v=True)\n",
    "    query = {\"query\" : {\n",
    "        \"match\" : {'content':word1 \n",
    "                  }\n",
    "    }}\n",
    "    res = client.search(index=\"documents\",body=query)\n",
    "    print(res)\n",
    "    result = {'ids': [], 'names': []}\n",
    "    index = 0\n",
    "    while(index<4 and index<len(res['hits']['hits'])):\n",
    "          doc = res['hits']['hits'][index]\n",
    "          doc_id = doc['_id']\n",
    "          result['ids'].append(doc_id)\n",
    "          doc_name = doc['_source']['name']\n",
    "          result['names'].append('doc_name')\n",
    "  \n",
    "    with open('data.txt', 'w') as outfile:  \n",
    "        json.dump(result, outfile)\n",
    "    print(result)\n",
    "    return result\n",
    "          \n",
    "print(getRelevantDocs(\"academic\")) "
   ]
  },
  {
   "cell_type": "code",
   "execution_count": null,
   "metadata": {},
   "outputs": [],
   "source": [
    "#PROBLEM: ONLY WORKS WITH ONE WORD"
   ]
  }
 ],
 "metadata": {
  "kernelspec": {
   "display_name": "Python 3",
   "language": "python",
   "name": "python3"
  },
  "language_info": {
   "codemirror_mode": {
    "name": "ipython",
    "version": 3
   },
   "file_extension": ".py",
   "mimetype": "text/x-python",
   "name": "python",
   "nbconvert_exporter": "python",
   "pygments_lexer": "ipython3",
   "version": "3.7.1"
  }
 },
 "nbformat": 4,
 "nbformat_minor": 2
}
